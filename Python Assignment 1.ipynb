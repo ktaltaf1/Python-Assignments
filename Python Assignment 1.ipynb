{
 "cells": [
  {
   "cell_type": "markdown",
   "id": "fa2eda10",
   "metadata": {},
   "source": [
    "# 1. Write a Python program to print \"Hello Python\"?"
   ]
  },
  {
   "cell_type": "code",
   "execution_count": 1,
   "id": "ef39eabe",
   "metadata": {},
   "outputs": [
    {
     "name": "stdout",
     "output_type": "stream",
     "text": [
      "Hello Python\n"
     ]
    }
   ],
   "source": [
    "print(\"Hello Python\")"
   ]
  },
  {
   "cell_type": "markdown",
   "id": "bf0cdbc7",
   "metadata": {},
   "source": [
    "# 2. Write a Python program to do arithmetical operations addition and division.?\n",
    "\n",
    "a= int(input(\"Enter a number\"))\n",
    "b= int(input(\"Enter b number\"))\n",
    "\n",
    "print(\"Addition is = \",a+b)\n",
    "print(\"division is = \",a/b)"
   ]
  },
  {
   "cell_type": "markdown",
   "id": "58477b41",
   "metadata": {},
   "source": [
    "# 3. Write a Python program to find the area of a triangle?"
   ]
  },
  {
   "cell_type": "code",
   "execution_count": 3,
   "id": "549abb21",
   "metadata": {},
   "outputs": [
    {
     "name": "stdout",
     "output_type": "stream",
     "text": [
      "Enter the height of triangle 20\n",
      "Enter the base of triangle 30\n",
      "Area of Triangle is =  300.0\n"
     ]
    }
   ],
   "source": [
    "height= int(input(\"Enter the height of triangle \"))\n",
    "base= int(input(\"Enter the base of triangle \"))\n",
    "\n",
    "print(\"Area of Triangle is = \", 1/2*(height * base))"
   ]
  },
  {
   "cell_type": "markdown",
   "id": "6a9e0f13",
   "metadata": {},
   "source": [
    "# 4. Write a Python program to swap two variables?"
   ]
  },
  {
   "cell_type": "code",
   "execution_count": 4,
   "id": "0e066797",
   "metadata": {},
   "outputs": [
    {
     "name": "stdout",
     "output_type": "stream",
     "text": [
      "Enter a number 5\n",
      "Enter b number 4\n",
      "value of a is  4\n",
      "value of b is  5\n"
     ]
    }
   ],
   "source": [
    "a= int(input(\"Enter a number \"))\n",
    "b= int(input(\"Enter b number \"))\n",
    "\n",
    "temp= a\n",
    "a=b\n",
    "b=temp\n",
    "\n",
    "print(\"value of a is \", a)\n",
    "print(\"value of b is \", b)"
   ]
  },
  {
   "cell_type": "markdown",
   "id": "db9abe1d",
   "metadata": {},
   "source": [
    "# 5. Write a Python program to generate a random number?"
   ]
  },
  {
   "cell_type": "code",
   "execution_count": 5,
   "id": "7b7ff88c",
   "metadata": {},
   "outputs": [
    {
     "data": {
      "text/plain": [
       "3"
      ]
     },
     "execution_count": 5,
     "metadata": {},
     "output_type": "execute_result"
    }
   ],
   "source": [
    "import random\n",
    "random.randint(1,10)"
   ]
  },
  {
   "cell_type": "code",
   "execution_count": null,
   "id": "06bfe3c7",
   "metadata": {},
   "outputs": [],
   "source": []
  }
 ],
 "metadata": {
  "kernelspec": {
   "display_name": "Python 3 (ipykernel)",
   "language": "python",
   "name": "python3"
  },
  "language_info": {
   "codemirror_mode": {
    "name": "ipython",
    "version": 3
   },
   "file_extension": ".py",
   "mimetype": "text/x-python",
   "name": "python",
   "nbconvert_exporter": "python",
   "pygments_lexer": "ipython3",
   "version": "3.9.13"
  }
 },
 "nbformat": 4,
 "nbformat_minor": 5
}
