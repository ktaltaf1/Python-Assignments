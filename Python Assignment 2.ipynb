{
 "cells": [
  {
   "cell_type": "markdown",
   "id": "43f3cdb5",
   "metadata": {},
   "source": [
    "# 1. Write a Python program to convert kilometers to miles?"
   ]
  },
  {
   "cell_type": "code",
   "execution_count": 1,
   "id": "ef8d593f",
   "metadata": {},
   "outputs": [
    {
     "name": "stdout",
     "output_type": "stream",
     "text": [
      "Enter Kilometer 20\n",
      "\n",
      " 20.0  kilometer have  12.4274238 Miles\n"
     ]
    }
   ],
   "source": [
    "kilo= float(input(\"Enter Kilometer \"))\n",
    "\n",
    "print('\\n', kilo ,\" kilometer have \", kilo * 0.62137119 , \"Miles\")"
   ]
  },
  {
   "cell_type": "markdown",
   "id": "205f8c33",
   "metadata": {},
   "source": [
    "# 2.Write a Python program to convert Celsius to Fahrenheit?"
   ]
  },
  {
   "cell_type": "code",
   "execution_count": 2,
   "id": "247289df",
   "metadata": {},
   "outputs": [
    {
     "name": "stdout",
     "output_type": "stream",
     "text": [
      "Enter temperature in celsius 25\n",
      "Your temp in Fahrenheit is  77.0\n"
     ]
    }
   ],
   "source": [
    "celsius = float(input(\"Enter temperature in celsius \"))\n",
    "\n",
    "fahr = celsius * 1.8 +32\n",
    "\n",
    "print(\"Your temp in Fahrenheit is \", fahr)"
   ]
  },
  {
   "cell_type": "markdown",
   "id": "98cef3ce",
   "metadata": {},
   "source": [
    "# 3. Write a Python program to display calendar?"
   ]
  },
  {
   "cell_type": "code",
   "execution_count": 3,
   "id": "84bc3bb5",
   "metadata": {},
   "outputs": [
    {
     "name": "stdout",
     "output_type": "stream",
     "text": [
      "   November 2022\n",
      "Mo Tu We Th Fr Sa Su\n",
      "    1  2  3  4  5  6\n",
      " 7  8  9 10 11 12 13\n",
      "14 15 16 17 18 19 20\n",
      "21 22 23 24 25 26 27\n",
      "28 29 30\n",
      "\n"
     ]
    }
   ],
   "source": [
    "import calendar\n",
    "\n",
    "print(calendar.month(2022,11))"
   ]
  },
  {
   "cell_type": "code",
   "execution_count": 4,
   "id": "18652341",
   "metadata": {},
   "outputs": [
    {
     "name": "stdout",
     "output_type": "stream",
     "text": [
      "                                  2022\n",
      "\n",
      "      January                   February                   March\n",
      "Mo Tu We Th Fr Sa Su      Mo Tu We Th Fr Sa Su      Mo Tu We Th Fr Sa Su\n",
      "                1  2          1  2  3  4  5  6          1  2  3  4  5  6\n",
      " 3  4  5  6  7  8  9       7  8  9 10 11 12 13       7  8  9 10 11 12 13\n",
      "10 11 12 13 14 15 16      14 15 16 17 18 19 20      14 15 16 17 18 19 20\n",
      "17 18 19 20 21 22 23      21 22 23 24 25 26 27      21 22 23 24 25 26 27\n",
      "24 25 26 27 28 29 30      28                        28 29 30 31\n",
      "31\n",
      "\n",
      "       April                      May                       June\n",
      "Mo Tu We Th Fr Sa Su      Mo Tu We Th Fr Sa Su      Mo Tu We Th Fr Sa Su\n",
      "             1  2  3                         1             1  2  3  4  5\n",
      " 4  5  6  7  8  9 10       2  3  4  5  6  7  8       6  7  8  9 10 11 12\n",
      "11 12 13 14 15 16 17       9 10 11 12 13 14 15      13 14 15 16 17 18 19\n",
      "18 19 20 21 22 23 24      16 17 18 19 20 21 22      20 21 22 23 24 25 26\n",
      "25 26 27 28 29 30         23 24 25 26 27 28 29      27 28 29 30\n",
      "                          30 31\n",
      "\n",
      "        July                     August                  September\n",
      "Mo Tu We Th Fr Sa Su      Mo Tu We Th Fr Sa Su      Mo Tu We Th Fr Sa Su\n",
      "             1  2  3       1  2  3  4  5  6  7                1  2  3  4\n",
      " 4  5  6  7  8  9 10       8  9 10 11 12 13 14       5  6  7  8  9 10 11\n",
      "11 12 13 14 15 16 17      15 16 17 18 19 20 21      12 13 14 15 16 17 18\n",
      "18 19 20 21 22 23 24      22 23 24 25 26 27 28      19 20 21 22 23 24 25\n",
      "25 26 27 28 29 30 31      29 30 31                  26 27 28 29 30\n",
      "\n",
      "      October                   November                  December\n",
      "Mo Tu We Th Fr Sa Su      Mo Tu We Th Fr Sa Su      Mo Tu We Th Fr Sa Su\n",
      "                1  2          1  2  3  4  5  6                1  2  3  4\n",
      " 3  4  5  6  7  8  9       7  8  9 10 11 12 13       5  6  7  8  9 10 11\n",
      "10 11 12 13 14 15 16      14 15 16 17 18 19 20      12 13 14 15 16 17 18\n",
      "17 18 19 20 21 22 23      21 22 23 24 25 26 27      19 20 21 22 23 24 25\n",
      "24 25 26 27 28 29 30      28 29 30                  26 27 28 29 30 31\n",
      "31\n",
      "\n"
     ]
    }
   ],
   "source": [
    "print(calendar.calendar(2022))"
   ]
  },
  {
   "cell_type": "markdown",
   "id": "c73a04d4",
   "metadata": {},
   "source": [
    "# 4. Write a Python program to solve quadratic equation?"
   ]
  },
  {
   "cell_type": "code",
   "execution_count": 5,
   "id": "67e4ddca",
   "metadata": {},
   "outputs": [
    {
     "name": "stdout",
     "output_type": "stream",
     "text": [
      "Enter a value 4\n",
      "Enter b value 6\n",
      "Enter c value 8\n",
      "+- roots are  (-0.75-1.1989578808281798j) (-0.75+1.1989578808281798j)\n"
     ]
    }
   ],
   "source": [
    "import cmath\n",
    "\n",
    "a= int(input(\"Enter a value \"))\n",
    "b= int(input(\"Enter b value \"))\n",
    "c= int(input(\"Enter c value \"))\n",
    "\n",
    "temp= (b**2)- (4*a*c)\n",
    "\n",
    "ans1= (-b-cmath.sqrt(temp))/(2*a)\n",
    "ans2= (-b+cmath.sqrt(temp))/(2*a)\n",
    "\n",
    "print(\"+- roots are \",  ans1  ,  ans2)"
   ]
  },
  {
   "cell_type": "markdown",
   "id": "572a2072",
   "metadata": {},
   "source": [
    "# 5. Write a Python program to swap two variables without temp variable?"
   ]
  },
  {
   "cell_type": "code",
   "execution_count": 6,
   "id": "41e190ee",
   "metadata": {},
   "outputs": [
    {
     "name": "stdout",
     "output_type": "stream",
     "text": [
      "Enter a value 9\n",
      "Enter b value 5\n",
      "Result is  9 5\n",
      "swap result is  5 9\n"
     ]
    }
   ],
   "source": [
    "a= input(\"Enter a value \")\n",
    "b= input(\"Enter b value \")\n",
    "\n",
    "print(\"Result is \",a,b)\n",
    "\n",
    "b,a= a,b\n",
    "\n",
    "print(\"swap result is \",a,b)"
   ]
  },
  {
   "cell_type": "code",
   "execution_count": null,
   "id": "10409451",
   "metadata": {},
   "outputs": [],
   "source": []
  }
 ],
 "metadata": {
  "kernelspec": {
   "display_name": "Python 3 (ipykernel)",
   "language": "python",
   "name": "python3"
  },
  "language_info": {
   "codemirror_mode": {
    "name": "ipython",
    "version": 3
   },
   "file_extension": ".py",
   "mimetype": "text/x-python",
   "name": "python",
   "nbconvert_exporter": "python",
   "pygments_lexer": "ipython3",
   "version": "3.9.13"
  }
 },
 "nbformat": 4,
 "nbformat_minor": 5
}
